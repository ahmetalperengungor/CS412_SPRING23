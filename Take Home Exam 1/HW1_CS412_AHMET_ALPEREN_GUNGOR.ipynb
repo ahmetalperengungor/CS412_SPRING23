{
  "nbformat": 4,
  "nbformat_minor": 0,
  "metadata": {
    "colab": {
      "provenance": []
    },
    "kernelspec": {
      "name": "python3",
      "display_name": "Python 3"
    },
    "gpuClass": "standard"
  },
  "cells": [
    {
      "cell_type": "markdown",
      "metadata": {
        "id": "voHKcAfRfdNY"
      },
      "source": [
        "# CS412 - Machine Learning - 2023\n",
        "## Homework 1\n",
        "100 pts\n",
        "\n",
        "## Software:\n",
        "\n",
        "You may find the necessary function references here:\n",
        "\n",
        "http://scikit-learn.org/stable/supervised_learning.html\n",
        "\n",
        "When you search for KNeighborsClassifier for instance, you should find the relevant function and explained parameters, easily.\n",
        "\n",
        "## Submission:\n",
        "Fill this notebook. Write the report section at the end, removing the part in italics.\n",
        "\n",
        "You should prepare a separate pdf document as your homework (name HW1-CS412-yourname.pdf) which consists of the report (Part 8) of the notebook for easy viewing -and- include a link to your notebook from within the pdf report (make sure to include the link obtained from the **Share** button on top right)."
      ]
    },
    {
      "cell_type": "markdown",
      "metadata": {
        "id": "_YOYiWvHbNDW"
      },
      "source": [
        "##1) Initialize\n",
        "\n",
        "*   First make a copy of the notebook given to you as a starter.\n",
        "\n",
        "*   Make sure you click the Connect button from upper right.\n"
      ]
    },
    {
      "cell_type": "code",
      "source": [
        "import random\n",
        "import numpy as np\n",
        "\n",
        "random.seed(412)\n",
        "np.random.seed(412)"
      ],
      "metadata": {
        "id": "UIjLyYzJvant"
      },
      "execution_count": null,
      "outputs": []
    },
    {
      "cell_type": "markdown",
      "metadata": {
        "id": "MM-wwHR8qL0M"
      },
      "source": [
        "## 2) Load training dataset\n",
        "\n",
        "*  Read MNIST dataset from Keras library.\n",
        "\n"
      ]
    },
    {
      "cell_type": "code",
      "metadata": {
        "id": "vsX8gEbCUqPr",
        "colab": {
          "base_uri": "https://localhost:8080/"
        },
        "outputId": "81e0b9f6-c48b-42cc-b063-5d3e0e6c31d6"
      },
      "source": [
        "# this cell can be skipped at the running time\n",
        "from keras.datasets import mnist\n",
        "(X_train, Y_train), (X_test, y_test) = mnist.load_data()"
      ],
      "execution_count": null,
      "outputs": [
        {
          "output_type": "stream",
          "name": "stdout",
          "text": [
            "Downloading data from https://storage.googleapis.com/tensorflow/tf-keras-datasets/mnist.npz\n",
            "11490434/11490434 [==============================] - 0s 0us/step\n"
          ]
        }
      ]
    },
    {
      "cell_type": "markdown",
      "source": [
        "##3) Reshape the MNIST data\n",
        "\n",
        "  In order to use images as input data for the sklearn k-NN classifier, the 2D image arrays need to be reshaped into a 1D arrays (in other words, a feature vector)."
      ],
      "metadata": {
        "id": "jykF6CFioiSw"
      }
    },
    {
      "cell_type": "code",
      "source": [
        "print('Before reshaping: ', X_train.shape, X_test.shape)"
      ],
      "metadata": {
        "id": "LAX4AsLWrGam",
        "colab": {
          "base_uri": "https://localhost:8080/"
        },
        "outputId": "5b28d0c1-721e-46ff-ef7e-441c70f910d3"
      },
      "execution_count": null,
      "outputs": [
        {
          "output_type": "stream",
          "name": "stdout",
          "text": [
            "Before reshaping:  (60000, 28, 28) (10000, 28, 28)\n"
          ]
        }
      ]
    },
    {
      "cell_type": "code",
      "source": [
        "N_train, height, width = X_train.shape\n",
        "\n",
        "X_train = np.reshape(X_train, (N_train, height*width)) # from array of shape N_train x 28 x 28 ---> N_train x 784 (Note: 28*28 = 784)\n",
        "X_test = np.reshape(X_test, (len(X_test), height*width)) # from array of shape N_test x 28 x 28 ---> N_test x 784"
      ],
      "metadata": {
        "id": "SEqkxBe5ohf1"
      },
      "execution_count": null,
      "outputs": []
    },
    {
      "cell_type": "code",
      "source": [
        "print('After reshaping: ', X_train.shape, X_test.shape)"
      ],
      "metadata": {
        "id": "Zob6_DCBqSHI",
        "colab": {
          "base_uri": "https://localhost:8080/"
        },
        "outputId": "f978c9ee-9f2a-408b-f5bf-f123c04edaae"
      },
      "execution_count": null,
      "outputs": [
        {
          "output_type": "stream",
          "name": "stdout",
          "text": [
            "After reshaping:  (60000, 784) (10000, 784)\n"
          ]
        }
      ]
    },
    {
      "cell_type": "markdown",
      "metadata": {
        "id": "Vop4rwZVxh9Z"
      },
      "source": [
        "##4) Shuffle and Split TRAINING data as train (also called development) (80%) and validation (20%)"
      ]
    },
    {
      "cell_type": "code",
      "metadata": {
        "id": "KEhk8R24xhdY"
      },
      "source": [
        "from sklearn.utils import shuffle\n",
        "\n",
        "# Shuffle the training data\n",
        "\n",
        "indices = np.arange(len(X_train))\n",
        "np.random.shuffle(indices)\n",
        "X_train = X_train[indices]\n",
        "Y_train = Y_train[indices]\n",
        "\n",
        "\n",
        "# Split %80 train - 20% val\n",
        "from sklearn.model_selection import train_test_split\n",
        "\n",
        "X_dev, X_val, Y_dev, Y_val = train_test_split(X_train, Y_train, test_size = 0.20, random_state=0)\n"
      ],
      "execution_count": null,
      "outputs": []
    },
    {
      "cell_type": "markdown",
      "metadata": {
        "id": "xR1oMsPu0AV_"
      },
      "source": [
        "##5) Train k-NN  classifier on development data and do model selection using the validation data\n",
        "\n",
        "\n",
        "* Train a k-NN classifier (use the values specified in the homework PDF file, do not try other values) with the rest of the parameters set to default.\n",
        "\n",
        "* The aim in this homework is not necessarily obtaining the best performance, but to establish the ML pipeline (train a few models, select based on validation set, test, report).\n"
      ]
    },
    {
      "cell_type": "code",
      "metadata": {
        "id": "Nv6oac-T3Wy5",
        "colab": {
          "base_uri": "https://localhost:8080/"
        },
        "outputId": "8637e3d4-7261-4a1b-d6ea-67f05d121b65"
      },
      "source": [
        "from sklearn.neighbors import KNeighborsClassifier\n",
        "from sklearn.metrics import accuracy_score\n",
        "\n",
        "k_values = [1,3,5,7,9,11,13]   # <--- Fill the list with the values for n_neighbors\n",
        "\n",
        "best_acc = -1\n",
        "best_k = None\n",
        "val_accs = []\n",
        "for k in k_values:\n",
        "  model_knn = KNeighborsClassifier(n_neighbors = k) # 1) initialize a k-NN classifier with n_neighbors parameter set to k\n",
        "  model_knn.fit(X_dev, Y_dev) # 2) train the classifier using training set\n",
        "  Y_pred = model_knn.predict(X_val) # 3) get the predictions of the classifier on the validation set\n",
        "  acc = accuracy_score(y_true = Y_val, y_pred = Y_pred) # 4) compute the accuracy of the predictions on the validation set and append it to val_accs list\n",
        "  val_accs.append(acc)\n",
        "  print('Validation accuracy for k=', k, ' :', acc)\n",
        "  if(acc>best_acc): # if validation accuracy is better than best_acc, update best_acc and best_k\n",
        "    best_acc = acc\n",
        "    best_k = k\n",
        "\n",
        "\n",
        "print('Best validation accuracy (', best_acc, ') is achieved with k=', best_k)"
      ],
      "execution_count": null,
      "outputs": [
        {
          "output_type": "stream",
          "name": "stdout",
          "text": [
            "Validation accuracy for k= 1  : 0.9721666666666666\n",
            "Validation accuracy for k= 3  : 0.97125\n",
            "Validation accuracy for k= 5  : 0.9695\n",
            "Validation accuracy for k= 7  : 0.96925\n",
            "Validation accuracy for k= 9  : 0.9676666666666667\n",
            "Validation accuracy for k= 11  : 0.9665\n",
            "Validation accuracy for k= 13  : 0.9661666666666666\n",
            "Best validation accuracy ( 0.9721666666666666 ) is achieved with k= 1\n"
          ]
        }
      ]
    },
    {
      "cell_type": "markdown",
      "source": [
        "## 6) Plot the obtained validation accuracies versus k values"
      ],
      "metadata": {
        "id": "DQ-0AmI3eqVL"
      }
    },
    {
      "cell_type": "code",
      "source": [
        "import matplotlib.pyplot as plt\n",
        "\n",
        "plt.plot(k_values, val_accs)\n",
        "plt.xticks(k_values)\n",
        "plt.xlabel('k')\n",
        "plt.ylabel('Validation Accuracy')\n",
        "plt.show()"
      ],
      "metadata": {
        "id": "L4P-dYSoeo3y",
        "colab": {
          "base_uri": "https://localhost:8080/",
          "height": 279
        },
        "outputId": "8e5daac5-e08e-4d33-9f92-e5d06ec28b80"
      },
      "execution_count": null,
      "outputs": [
        {
          "output_type": "display_data",
          "data": {
            "text/plain": [
              "<Figure size 432x288 with 1 Axes>"
            ],
            "image/png": "[encoded data removed]"
          },
          "metadata": {
            "needs_background": "light"
          }
        }
      ]
    },
    {
      "cell_type": "markdown",
      "metadata": {
        "id": "boqe46St1--f"
      },
      "source": [
        "## 7) Test your classifier on test set\n",
        "\n",
        "- Now that you have the best value for the ***n_neighbors*** parameter, train a model **with best parameters that you have found according to your validation results**. But now, train the model by combining the training and validation sets. Then report the accuracy on the test set."
      ]
    },
    {
      "cell_type": "code",
      "metadata": {
        "id": "IPLke8jyFGng",
        "colab": {
          "base_uri": "https://localhost:8080/"
        },
        "outputId": "a3fbe9cd-a9b0-4d47-885f-c5d544a2841e"
      },
      "source": [
        "final_model = KNeighborsClassifier(n_neighbors = best_k) # 1) initialize a k-NN classifier with n_neighbors parameter set to best_k\n",
        "X_train_val = np.concatenate((X_train, X_val)) # 2) combine the training and validation sets (you may want to look up numpy.concatenate function for this)\n",
        "y_train_val = np.concatenate((Y_train, Y_val))\n",
        "final_model.fit(X_train_val, y_train_val) # 3) train the classifier using this set\n",
        "y_pred = final_model.predict(X_test) # 4) get the predictions of the classifier on the test set\n",
        "acc = accuracy_score(y_true = y_test, y_pred = y_pred)# 5) compute the accuracy of the predictions on the test set\n",
        "print('Test accuracy for k=', best_k, ' :', acc)\n",
        "\n",
        "\n",
        "# Report your result\n",
        "\n",
        "#report is on both pdf and below"
      ],
      "execution_count": null,
      "outputs": [
        {
          "output_type": "stream",
          "name": "stdout",
          "text": [
            "Test accuracy for k= 1  : 0.9691\n"
          ]
        }
      ]
    },
    {
      "cell_type": "markdown",
      "metadata": {
        "id": "WG3473I9dGE8"
      },
      "source": [
        "##8) Report your results\n",
        "\n",
        "**Notebook should be RUN:** As training and testing may take a long time, we may just look at your notebook results; so make sure **each cell is run**, so outputs are there.\n",
        "\n",
        "**Report:** Write an **one page summary** of your approach to this problem **below**; this should be like an abstract of a paper or the executive summary (you aim for clarity and passing on information, not going to details about known facts such as what kNN is or what MNIST is, assuming they are known to people in your research area).\n",
        "\n",
        "**Ahmet Alperen GUNGOR - 28847 - HW1 REPORT**\n",
        "\n",
        "In this task, our aim is to implement a classifier for MNIST dataset using k-NN algorithm. While\n",
        "doing so, we need to train the model with training set, then tune the hyperparameters using validation\n",
        "set.\n",
        "The dataset has 60000 training and 10000 test data, with 28x28 = 784 features. The training set\n",
        "will be further divided into 2 parts: %80 development (which will be used to initially train the data) and\n",
        "%20 validation (which will be used to tune hyperparameters – which is number of neighbors, K).\n",
        "Parameters that we tried to tune number of K are [1,3,5,7,9,11,13] and the accuracies (using\n",
        "validation data) are given below in a table:\n",
        "\n",
        "K parameter 1 3 5 7 9 11 13\n",
        "\n",
        "Accuracy 0.9721 0.9712 0.9695 0.9692 0.9676 0.9665 0.9661\n",
        "\n",
        "As it can be seen from the table, k=1 has the highest accuracy on validation set with an accuracy\n",
        "of 0.9721. Setting the number of neighbor parameter as 1 (the k=1 hyperparameter), k-NN classifier\n",
        "model is then trained again, but using combined training (development) and validation set. The accuracy\n",
        "of this model on the test set is 0.9691\n"
      ]
    }
  ]
}